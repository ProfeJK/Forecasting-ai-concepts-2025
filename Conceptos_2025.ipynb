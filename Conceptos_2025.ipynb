{
  "nbformat": 4,
  "nbformat_minor": 0,
  "metadata": {
    "colab": {
      "provenance": []
    },
    "kernelspec": {
      "name": "python3",
      "display_name": "Python 3"
    },
    "language_info": {
      "name": "python"
    }
  },
  "cells": [
    {
      "cell_type": "markdown",
      "source": [
        "# ANALITICA DE DATOS CON INTELIGENCIA ARTIFICIAL\n",
        "\n",
        "# Conceptos de estadistica y analitica\n",
        "\n",
        "**Universidad de los Andes**\n",
        "\n",
        "2025\n",
        "\n",
        "---\n",
        "\n",
        "\n",
        "Juan Carlos Vega, M.Sc."
      ],
      "metadata": {
        "id": "wIvuYHIaLJJL"
      }
    },
    {
      "cell_type": "markdown",
      "source": [
        "# 📌 Introducción a la selección y extracción de características\n",
        "\n",
        "En problemas de **aprendizaje automático y modelado predictivo**, no todas las variables disponibles aportan información útil.  \n",
        "Algunas pueden ser **irrelevantes, redundantes o incluso introducir ruido**, lo cual afecta la capacidad del modelo para generalizar.  \n",
        "\n",
        "Por eso existen dos enfoques fundamentales:\n",
        "\n",
        "- **Selección de características (Feature Selection):** consiste en **elegir un subconjunto** de las variables originales que mejoran el rendimiento del modelo sin perder información esencial.  \n",
        "  Ejemplos: RFE (Recursive Feature Elimination), búsqueda exhaustiva, regularización con Lasso.\n",
        "\n",
        "- **Extracción de características (Feature Extraction):** consiste en **transformar las variables originales** en nuevas representaciones más compactas y útiles, preservando la información más relevante.  \n",
        "  Ejemplos: PCA (Análisis de Componentes Principales), Autoencoders.\n",
        "\n",
        "Estos métodos ayudan a:\n",
        "- Reducir la **dimensionalidad** y el **costo computacional**.  \n",
        "- Evitar el **overfitting**.  \n",
        "- Mejorar la **interpretabilidad** del modelo.  \n",
        "- Destacar la información más relevante de los datos.\n",
        "\n",
        "En este capítulo veremos técnicas clave como **RFE, búsqueda exhaustiva, regresión Lasso y Ridge**, analizando cómo funcionan, sus ventajas, limitaciones y cuándo conviene aplicarlas.\n"
      ],
      "metadata": {
        "id": "hRecvinVOO9O"
      }
    },
    {
      "cell_type": "markdown",
      "source": [
        "## 🔎 Comparación PCA vs LCA\n",
        "\n",
        "| Característica            | **PCA (Principal Component Analysis)**                                      | **LCA (Latent Class Analysis)**                                       |\n",
        "|----------------------------|----------------------------------------------------------------------------|------------------------------------------------------------------------|\n",
        "| **Tipo de técnica**        | Reducción de dimensionalidad (análisis factorial, método lineal).          | Modelado probabilístico (clasificación no supervisada).                |\n",
        "| **Objetivo principal**     | Encontrar combinaciones lineales de variables (componentes principales) que expliquen la mayor varianza. | Identificar **clases/categorías ocultas** (no observables) en la población. |\n",
        "| **Datos de entrada**       | Variables numéricas continuas, preferiblemente correlacionadas.            | Variables categóricas (aunque también se puede usar en datos mixtos).  |\n",
        "| **Salida**                 | Nuevas variables continuas (componentes), ordenadas por importancia (varianza explicada). | Probabilidades de pertenencia de cada individuo a clases latentes.     |\n",
        "| **Supuesto clave**         | Las relaciones importantes se capturan en la **varianza lineal** de los datos. | Los individuos pertenecen a un número finito de **clases ocultas** mutuamente excluyentes. |\n",
        "| **Interpretación**         | Difícil: cada componente es combinación de muchas variables.               | Más interpretativo: cada clase suele corresponder a un perfil o segmento de población. |\n",
        "| **Aplicaciones típicas**   | - Reducción de dimensionalidad antes de ML.<br>- Compresión de imágenes.<br>- Análisis de señales o genómica.<br>- Eliminar colinealidad. | - Psicología y ciencias sociales.<br>- Segmentación de clientes.<br>- Educación (perfiles de estudiantes).<br>- Epidemiología (subpoblaciones). |\n",
        "| **Cuándo usarlo**          | Cuando tienes **muchas variables continuas** y quieres resumirlas en menos dimensiones sin perder demasiada información. | Cuando sospechas que existen **subgrupos ocultos** en tu muestra y quieres descubrirlos. |\n"
      ],
      "metadata": {
        "id": "4WAoPj5dHvtP"
      }
    },
    {
      "cell_type": "markdown",
      "source": [
        "**En resumen:**\n",
        "\n",
        "**PCA →** te da nuevas variables continuas (componentes) que resumen la información.\n",
        "\n",
        "**LCA →** te da clases ocultas (clusters probabilísticos) a las que cada individuo pertenece con cierta probabilidad.\n",
        "\n",
        "👉 Si quieres reducir dimensionalidad de features, usa PCA.\n",
        "👉 Si quieres segmentar la población en perfiles ocultos, usa LCA."
      ],
      "metadata": {
        "id": "1hWPnDbeH20E"
      }
    },
    {
      "cell_type": "markdown",
      "source": [
        "## 🔎 Comparación de tipos de correlación\n",
        "\n",
        "| Tipo de correlación       | Qué mide                                                                 | Datos apropiados                                   | Rango/Salida         | Supuestos principales                                        | Cuándo usarla |\n",
        "|---------------------------|--------------------------------------------------------------------------|---------------------------------------------------|----------------------|--------------------------------------------------------------|---------------|\n",
        "| **Pearson (r)**           | Fuerza y dirección de la **relación lineal** entre dos variables.        | Continuas, distribuidas aproximadamente normal.   | -1 a +1              | Linealidad, homocedasticidad, normalidad aproximada.         | Cuando esperas relación lineal en datos continuos. |\n",
        "| **Spearman (ρ)**          | Relación **monótona** (creciente o decreciente), basada en rangos.       | Continuas u ordinales (no requiere normalidad).   | -1 a +1              | Relación monótona (no necesariamente lineal).                | Cuando hay outliers o relación no lineal pero monótona. |\n",
        "| **Kendall (τ)**           | Concordancia de rangos entre dos variables.                             | Ordinales o continuas con pocos datos.            | -1 a +1              | Similar a Spearman pero más robusta en muestras pequeñas.    | Cuando la muestra es pequeña o hay muchos empates en rangos. |\n",
        "| **Phi (φ)**               | Asociación entre **dos variables dicotómicas** (binarias).              | Categóricas binarias.                             | -1 a +1              | Tablas 2x2.                                                  | En análisis de variables binarias (ej. sí/no). |\n",
        "| **Cramer’s V**            | Asociación entre variables **categóricas nominales** (más de 2 clases). | Categóricas nominales.                            | 0 a 1                | Basado en chi-cuadrado.                                      | Para tablas de contingencia grandes (>2x2). |\n",
        "| **Point-Biserial (r_pb)** | Correlación entre una variable continua y una binaria.                  | Continua + binaria.                               | -1 a +1              | Variable binaria codificada (0/1).                          | En psicometría y pruebas dicotómicas vs puntuaciones. |\n",
        "\n",
        "---\n",
        "\n",
        "### ✅ Resumen rápido:\n",
        "- **Pearson**: datos continuos, relación lineal.  \n",
        "- **Spearman / Kendall**: datos ordinales o no normales, relación monótona.  \n",
        "- **Phi / Cramer’s V**: datos categóricos.  \n",
        "- **Point-Biserial**: una continua + una binaria.\n"
      ],
      "metadata": {
        "id": "_3K9MbtuIJ38"
      }
    },
    {
      "cell_type": "markdown",
      "source": [
        "## 🔎 Correlación vs. Correlación Cruzada\n",
        "\n",
        "| Concepto                  | Definición                                                                 | Uso principal                                                   | Ejemplo típico |\n",
        "|---------------------------|-----------------------------------------------------------------------------|----------------------------------------------------------------|----------------|\n",
        "| **Correlación (clásica)** | Mide el grado de relación (lineal, monótona, ordinal) entre **dos variables** en un mismo instante o conjunto de observaciones. | Estadística descriptiva, psicometría, ciencias sociales.        | Relación entre horas de estudio y calificación en un examen. |\n",
        "| **Correlación cruzada**   | Extiende la correlación considerando **desplazamientos temporales (lags)** entre dos series. Evalúa cómo se relaciona una serie con otra en diferentes retardos. | Series temporales, señales, econometría, climatología.          | Ver si la temperatura de hoy predice la demanda eléctrica de mañana. |\n",
        "\n",
        "---\n",
        "\n",
        "### 🔹 Detalles clave de la **correlación cruzada**\n",
        "- Se calcula como:\n",
        "  \\[\n",
        "  C_{xy}(k) = \\sum_t x(t) \\cdot y(t+k)\n",
        "  \\]\n",
        "  donde `k` es el **desplazamiento temporal (lag)**.\n",
        "- Si el valor máximo ocurre en `k=+3`, significa que la serie `x` **se adelanta 3 pasos** respecto a `y`.\n",
        "- Es muy usada para:\n",
        "  - Identificar relaciones de causa/efecto temporal.\n",
        "  - Alinear señales (ej. en sismología o procesamiento de audio).\n",
        "  - Predecir variables con rezago (ej. series económicas).\n",
        "\n",
        "---\n",
        "\n",
        "### ✅ Resumen rápido\n",
        "- **Correlación simple**: mide la relación instantánea entre dos variables.  \n",
        "- **Correlación cruzada**: mide la relación cuando una variable puede estar **desfasada en el tiempo** respecto a la otra.  \n",
        "\n",
        "👉 Usa correlación simple si tus datos no tienen orden temporal.  \n",
        "👉 Usa correlación cruzada si trabajas con **series temporales** o señales y sospechas que la dependencia aparece con retraso.\n"
      ],
      "metadata": {
        "id": "7dMSQ6E0IdUV"
      }
    },
    {
      "cell_type": "markdown",
      "source": [
        "## 🔎 Autocorrelación\n",
        "\n",
        "| Concepto              | Definición                                                                 | Uso principal                                              | Ejemplo típico |\n",
        "|-----------------------|-----------------------------------------------------------------------------|-----------------------------------------------------------|----------------|\n",
        "| **Autocorrelación**   | Es la correlación de una serie consigo misma en diferentes desplazamientos temporales (lags). | Detectar patrones repetitivos o dependencias temporales.  | Ver si la demanda eléctrica de hoy se parece a la de hace 24 horas. |\n",
        "\n",
        "---\n",
        "\n",
        "### 🔹 Detalles clave\n",
        "- Matemáticamente es un caso especial de la **correlación cruzada** donde `x = y`.  \n",
        "- Se calcula como:\n",
        "  \\[\n",
        "  R_{xx}(k) = \\sum_t x(t) \\cdot x(t+k)\n",
        "  \\]\n",
        "- Útil para:\n",
        "  - Identificar **estacionalidad** o periodicidad en series (ej. patrones diarios, semanales, anuales).\n",
        "  - Ver cuánto dura la “memoria” de una serie (ej. procesos AR en estadística).\n",
        "  - Diagnóstico en modelos de series temporales (ej. usar ACF y PACF en ARIMA).\n",
        "\n",
        "---\n",
        "\n",
        "### 🔹 Relación con otros conceptos\n",
        "- **Correlación simple**: compara dos variables al mismo tiempo.  \n",
        "- **Correlación cruzada**: compara dos series en diferentes retardos.  \n",
        "- **Autocorrelación**: compara **una sola serie consigo misma** en distintos retardos.\n",
        "\n",
        "---\n",
        "\n",
        "### ✅ Resumen rápido\n",
        "- Si quieres saber cómo dos variables se relacionan → usa **correlación**.  \n",
        "- Si quieres saber si una variable “influye con retraso” en otra → usa **correlación cruzada**.  \n",
        "- Si quieres saber si una variable depende de su propio pasado → usa **autocorrelación**.\n"
      ],
      "metadata": {
        "id": "Oom8dQbOIz32"
      }
    },
    {
      "cell_type": "markdown",
      "source": [
        "## 🔎 Correlación parcial\n",
        "\n",
        "### 📌 Definición\n",
        "La **correlación parcial** mide la relación entre dos variables **controlando el efecto de una o más variables adicionales**.  \n",
        "Es decir, evalúa cuánto se relacionan dos variables de forma **directa**, eliminando la influencia de terceras variables que puedan estar introduciendo dependencia.\n",
        "\n",
        "---\n",
        "\n",
        "### 📌 Diferencia con la correlación simple\n",
        "- **Correlación simple**: mide la asociación total entre X e Y (incluyendo efectos de otras variables).\n",
        "- **Correlación parcial**: mide solo la asociación **residual**, después de eliminar el efecto de otras variables Z.\n",
        "\n",
        "Ejemplo:  \n",
        "Si medimos **ejercicio (X)** y **peso corporal (Y)**, puede que estén correlacionados.  \n",
        "Pero al controlar por **ingesta calórica (Z)**, la correlación parcial entre ejercicio y peso podría ser menor, mostrando que la dieta explica gran parte de la relación.\n",
        "\n",
        "---\n",
        "\n",
        "### 📌 En series temporales\n",
        "En análisis de series, la **función de autocorrelación parcial (PACF)** es fundamental:\n",
        "- **ACF (Autocorrelación)**: muestra la correlación de una serie consigo misma en diferentes retardos, pero incluye efectos indirectos.\n",
        "- **PACF (Autocorrelación parcial)**: muestra la correlación **directa** entre la serie y su retardo, eliminando la influencia de retardos intermedios.\n",
        "\n",
        "👉 Por eso, en modelos **AR(p)** se usa la PACF para identificar el orden `p`.\n",
        "\n",
        "---\n",
        "\n",
        "### 📌 Interpretación en PACF\n",
        "- Si el PACF muestra un corte abrupto después del lag `p` → sugiere un modelo **AR(p)**.  \n",
        "- Si el PACF decae gradualmente → el proceso puede ser más complejo (ej. mixto ARMA).  \n",
        "\n",
        "---\n",
        "\n",
        "### ✅ En resumen\n",
        "- **Correlación parcial**: mide la relación directa entre dos variables controlando otras.  \n",
        "- **PACF en series**: herramienta clave para seleccionar el número de retardos en modelos AR/ARIMA.  \n",
        "- Complementa a la **ACF**, que muestra las correlaciones totales (directas + indirectas).\n"
      ],
      "metadata": {
        "id": "bik9hYjeJmjY"
      }
    },
    {
      "cell_type": "code",
      "source": [
        "!pip install statsmodels"
      ],
      "metadata": {
        "colab": {
          "base_uri": "https://localhost:8080/"
        },
        "id": "pZFTD-iFKAHK",
        "outputId": "25004ce7-8364-4a47-de3b-bef5f2c9f148"
      },
      "execution_count": 1,
      "outputs": [
        {
          "output_type": "stream",
          "name": "stdout",
          "text": [
            "Requirement already satisfied: statsmodels in /usr/local/lib/python3.12/dist-packages (0.14.5)\n",
            "Requirement already satisfied: numpy<3,>=1.22.3 in /usr/local/lib/python3.12/dist-packages (from statsmodels) (2.0.2)\n",
            "Requirement already satisfied: scipy!=1.9.2,>=1.8 in /usr/local/lib/python3.12/dist-packages (from statsmodels) (1.16.1)\n",
            "Requirement already satisfied: pandas!=2.1.0,>=1.4 in /usr/local/lib/python3.12/dist-packages (from statsmodels) (2.2.2)\n",
            "Requirement already satisfied: patsy>=0.5.6 in /usr/local/lib/python3.12/dist-packages (from statsmodels) (1.0.1)\n",
            "Requirement already satisfied: packaging>=21.3 in /usr/local/lib/python3.12/dist-packages (from statsmodels) (25.0)\n",
            "Requirement already satisfied: python-dateutil>=2.8.2 in /usr/local/lib/python3.12/dist-packages (from pandas!=2.1.0,>=1.4->statsmodels) (2.9.0.post0)\n",
            "Requirement already satisfied: pytz>=2020.1 in /usr/local/lib/python3.12/dist-packages (from pandas!=2.1.0,>=1.4->statsmodels) (2025.2)\n",
            "Requirement already satisfied: tzdata>=2022.7 in /usr/local/lib/python3.12/dist-packages (from pandas!=2.1.0,>=1.4->statsmodels) (2025.2)\n",
            "Requirement already satisfied: six>=1.5 in /usr/local/lib/python3.12/dist-packages (from python-dateutil>=2.8.2->pandas!=2.1.0,>=1.4->statsmodels) (1.17.0)\n"
          ]
        }
      ]
    },
    {
      "cell_type": "code",
      "source": [
        "import numpy as np\n",
        "import pandas as pd\n",
        "\n",
        "# Semilla para reproducibilidad\n",
        "rng = np.random.default_rng(42)\n",
        "\n",
        "# Serie AR(2): y_t = 0.6 y_{t-1} - 0.3 y_{t-2} + ruido\n",
        "n = 500\n",
        "y = np.zeros(n)\n",
        "noise = rng.normal(0, 1, size=n)\n",
        "for t in range(2, n):\n",
        "    y[t] = 0.6*y[t-1] - 0.3*y[t-2] + noise[t]\n",
        "\n",
        "# Si ya tienes tu serie como pandas.Series, usa:\n",
        "# y = tu_serie.values.astype(float)\n"
      ],
      "metadata": {
        "id": "Xf7CYGhYKDtI"
      },
      "execution_count": 2,
      "outputs": []
    },
    {
      "cell_type": "markdown",
      "source": [
        "## calculo numerico de ACF  y PACF\n"
      ],
      "metadata": {
        "id": "kIK4k2w9KJGo"
      }
    },
    {
      "cell_type": "code",
      "source": [
        "from statsmodels.tsa.stattools import acf, pacf\n",
        "\n",
        "# nlags: cuántos retardos inspeccionar\n",
        "nlags = 40\n",
        "\n",
        "acf_vals = acf(y, nlags=nlags, fft=True)         # incluye lag 0\n",
        "pacf_vals = pacf(y, nlags=nlags, method='yw')    # Yule-Walker para PACF\n",
        "\n",
        "print(\"ACF (primeros 10 lags):\", np.round(acf_vals[:10], 3))\n",
        "print(\"PACF (primeros 10 lags):\", np.round(pacf_vals[:10], 3))\n"
      ],
      "metadata": {
        "colab": {
          "base_uri": "https://localhost:8080/"
        },
        "id": "0dE3FVRwKPj0",
        "outputId": "6770364e-d084-4182-e275-726d5d77ff50"
      },
      "execution_count": 3,
      "outputs": [
        {
          "output_type": "stream",
          "name": "stdout",
          "text": [
            "ACF (primeros 10 lags): [ 1.     0.515 -0.002 -0.198 -0.165 -0.072 -0.027  0.022 -0.006 -0.052]\n",
            "PACF (primeros 10 lags): [ 1.     0.516 -0.365 -0.015 -0.031 -0.021 -0.043  0.049 -0.09  -0.021]\n"
          ]
        }
      ]
    },
    {
      "cell_type": "code",
      "source": [
        "import matplotlib.pyplot as plt\n",
        "from statsmodels.graphics.tsaplots import plot_acf, plot_pacf\n",
        "\n",
        "# ACF AUTOCORRELACION\n",
        "fig1 = plot_acf(y, lags=nlags, zero=False)\n",
        "plt.title(\"ACF\")\n",
        "plt.show()\n",
        "\n",
        "# PACF AUTOCORRELACION PARCIAL\n",
        "fig2 = plot_pacf(y, lags=nlags, zero=False, method='yw')\n",
        "plt.title(\"PACF\")\n",
        "plt.show()\n"
      ],
      "metadata": {
        "colab": {
          "base_uri": "https://localhost:8080/",
          "height": 887
        },
        "id": "YOnxV-BRKWCS",
        "outputId": "e6eca167-49e7-472a-9648-d7477e02781f"
      },
      "execution_count": 4,
      "outputs": [
        {
          "output_type": "display_data",
          "data": {
            "text/plain": [
              "<Figure size 640x480 with 1 Axes>"
            ],
            "image/png": "[encoded data removed]"
          },
          "metadata": {}
        },
        {
          "output_type": "display_data",
          "data": {
            "text/plain": [
              "<Figure size 640x480 with 1 Axes>"
            ],
            "image/png": "[encoded data removed]"
          },
          "metadata": {}
        }
      ]
    },
    {
      "cell_type": "code",
      "source": [
        "# ejemplo de correlación cruzada\n",
        "import numpy as np\n",
        "\n",
        "def xcorr_lag(x, y, max_lag=48):  # ajusta a tu frecuencia\n",
        "    lags = np.arange(-max_lag, max_lag+1)\n",
        "    corrs = []\n",
        "    x = (x - x.mean())/x.std()\n",
        "    y = (y - y.mean())/y.std()\n",
        "    for k in lags:\n",
        "        if k < 0:\n",
        "            corrs.append(np.corrcoef(x[-k:], y[:len(y)+k])[0,1])\n",
        "        elif k > 0:\n",
        "            corrs.append(np.corrcoef(x[:len(x)-k], y[k:])[0,1])\n",
        "        else:\n",
        "            corrs.append(np.corrcoef(x, y)[0,1])\n",
        "    idx = int(np.nanargmax(np.abs(corrs)))\n",
        "    return lags[idx], corrs[idx], lags, np.array(corrs)\n",
        "\n",
        "# Demo con la misma y + ruido desplazada\n",
        "y2 = np.roll(y, 3) + 0.1*np.random.randn(len(y))  # y adelantada 3 pasos\n",
        "best_lag, best_corr, lags, corrs = xcorr_lag(y, y2, max_lag=24)\n",
        "print(f\"Mejor lag: {best_lag}  |  correlación: {best_corr:.3f}\")\n"
      ],
      "metadata": {
        "colab": {
          "base_uri": "https://localhost:8080/"
        },
        "id": "gpT-XkOnQdQ_",
        "outputId": "1e3f407e-ff6c-47bf-c3ea-d88588151c1b"
      },
      "execution_count": 5,
      "outputs": [
        {
          "output_type": "stream",
          "name": "stdout",
          "text": [
            "Mejor lag: 3  |  correlación: 0.997\n"
          ]
        }
      ]
    },
    {
      "cell_type": "markdown",
      "source": [
        "## 🔎 Descomposición y pruebas de estacionariedad en series temporales\n",
        "\n",
        "### 📌 Descomposición de series\n",
        "La **descomposición** consiste en separar una serie temporal en sus componentes básicos:\n",
        "\n",
        "1. **Tendencia (T)** → movimiento de largo plazo (creciente, decreciente o estable).  \n",
        "2. **Estacionalidad (S)** → patrones que se repiten en intervalos fijos (diario, semanal, anual).  \n",
        "3. **Componente aleatoria o residual (R)** → variaciones no explicadas (ruido).\n",
        "\n",
        "Se expresa como:\n",
        "- Modelo aditivo:  \n",
        "  \\[\n",
        "  Y_t = T_t + S_t + R_t\n",
        "  \\]\n",
        "- Modelo multiplicativo:  \n",
        "  \\[\n",
        "  Y_t = T_t \\times S_t \\times R_t\n",
        "  \\]\n",
        "\n",
        "👉 Sirve para **entender la estructura** de la serie y elegir mejor el modelo de predicción.\n",
        "\n",
        "---\n",
        "\n",
        "### 📌 Estacionariedad\n",
        "Una serie es **estacionaria** cuando sus propiedades estadísticas **no cambian en el tiempo**:\n",
        "- Media constante.  \n",
        "- Varianza constante.  \n",
        "- Autocorrelación estable en todos los periodos.\n",
        "\n",
        "Por qué importa:\n",
        "- Modelos clásicos como **AR, MA, ARIMA** requieren estacionariedad para funcionar correctamente.  \n",
        "- La estacionariedad permite que las relaciones pasadas sean válidas para el futuro.\n",
        "\n",
        "---\n",
        "\n",
        "### 📌 Pruebas de estacionariedad\n",
        "Las más usadas son:\n",
        "- **ADF (Augmented Dickey-Fuller)**: H0 = la serie tiene raíz unitaria (no es estacionaria).  \n",
        "- **KPSS (Kwiatkowski-Phillips-Schmidt-Shin)**: H0 = la serie es estacionaria.  \n",
        "- **Phillips-Perron**: variante robusta para correlación serial y heterocedasticidad.\n",
        "\n",
        "👉 Lo ideal es usar más de una prueba para confirmar.\n",
        "\n",
        "---\n",
        "\n",
        "### 📌 Relación entre ambos pasos\n",
        "- La **descomposición** te da una idea visual de qué parte de la serie se debe eliminar o modelar (tendencia/estacionalidad).  \n",
        "- Las **pruebas de estacionariedad** te dicen si después de quitar esas partes (o aplicar transformaciones como diferenciación) tu serie queda lista para modelarse.\n",
        "\n",
        "---\n",
        "\n",
        "### ✅ En resumen\n",
        "- **Descomposición** → entender la estructura (tendencia, estacionalidad, ruido).  \n",
        "- **Pruebas de estacionariedad** → confirmar si la serie puede ser modelada directamente o requiere transformaciones (ej. diferenciación).  \n",
        "- Ambos pasos son la base para decidir entre usar modelos **estadísticos (ARIMA/ETS)** o más flexibles como **LSTM/Transformers**.\n"
      ],
      "metadata": {
        "id": "RYNQqDonJNmv"
      }
    },
    {
      "cell_type": "markdown",
      "source": [
        "# 🎯 Selección y extracción de características (Feature Selection & Extraction)\n",
        "\n",
        "## 1) Conceptos clave\n",
        "- **Selección de características**: eliges un **subconjunto** de variables originales (no las transformas).  \n",
        "- **Extracción de características**: **transformas** las variables para crear nuevas representaciones (ej. PCA, Autoencoders).\n",
        "\n",
        "---\n",
        "\n",
        "## 2) Mapa rápido de técnicas (qué son y cuándo usarlas)\n",
        "\n",
        "| Técnica | Tipo | Idea central | Pros | Contras | Úsala cuando… |\n",
        "|---|---|---|---|---|---|\n",
        "| **RFE (Recursive Feature Elimination)** | *Wrapper* | Entrena un modelo, elimina las características menos importantes y repite hasta quedarte con k | Buena para modelos lineales/árboles; subgrupo interpretable | Costosa si hay muchas features; depende del modelo base | Tienes un estimador con `coef_` o `feature_importances_` y quieres **selección explícita** |\n",
        "| **Búsqueda exhaustiva (Best Subset)** | *Wrapper* | Prueba **todas** las combinaciones y elige la mejor según CV/AIC/BIC | Óptimo global (según criterio) | **Explota** en tiempo: O(2^p) | P < ~25 y necesitas rigor máximo |\n",
        "| **Forward/Backward/Stepwise** | *Wrapper* | Agrega (forward) o elimina (backward) de a una feature | Mucho más rápido que exhaustiva | Puede caer en óptimos locales | Dataset mediano/grande; buscas buen trade-off tiempo/calidad |\n",
        "| **Lasso (L1)** | *Embedded* | Penaliza |coef| y **lleva a cero** algunos → selección automática | Hace “sparse” el modelo; bueno con muchas features | Inestable con colinealidad fuerte; necesita **escalar** | Quieres selección + regularización en una sola pasada |\n",
        "| **Ridge (L2)** | *Embedded* | Penaliza |coef| pero **no los hace cero** → reduce varianza | Estable con colinealidad; mejora generalización | No hace selección; solo encoge | Quieres **estabilidad** y evitar overfitting sin eliminar variables |\n",
        "| **PCA** | *Extracción* | Componentes lineales que maximizan varianza | Reduce dimensión, quita colinealidad | Pierde interpretabilidad | Preparación antes de modelos sensibles a colinealidad |\n",
        "| **Autoencoders** | *Extracción* | Reducción no lineal aprendida | Capta patrones complejos | Menos interpretable; requiere más datos | Estructuras no lineales/alta dimensión (imágenes, señales) |\n",
        "\n",
        "---\n",
        "\n",
        "## 3) RFE — Recursive Feature Elimination\n",
        "**Qué hace**: usa un modelo base (p.ej. `LinearRegression`, `LogisticRegression`, `RandomForest`) para puntuar features, elimina las peores y repite hasta llegar a `n_features_to_select`.\n",
        "\n",
        "**Ventajas**: resultado interpretable (subset real), aprovecha conocimiento del modelo.  \n",
        "**Cuidado**: *data leakage* → haz RFE **dentro** de un `Pipeline` y valida con CV.\n",
        "\n",
        "**Ejemplo (scikit-learn)**:\n",
        "```python\n",
        "from sklearn.pipeline import Pipeline\n",
        "from sklearn.preprocessing import StandardScaler\n",
        "from sklearn.feature_selection import RFE\n",
        "from sklearn.linear_model import Lasso\n",
        "from sklearn.model_selection import cross_val_score, KFold\n",
        "\n",
        "pipe = Pipeline([\n",
        "    ('scaler', StandardScaler()),\n",
        "    ('rfe', RFE(estimator=Lasso(alpha=0.01, max_iter=10000), n_features_to_select=10)),\n",
        "    ('model', Lasso(alpha=0.01, max_iter=10000))\n",
        "])\n",
        "\n",
        "cv = KFold(n_splits=5, shuffle=True, random_state=42)\n",
        "scores = cross_val_score(pipe, X, y, cv=cv, scoring='neg_mean_squared_error')\n",
        "print(\"MSE CV:\", -scores.mean())\n"
      ],
      "metadata": {
        "id": "tD7u9d9-MRc9"
      }
    },
    {
      "cell_type": "markdown",
      "source": [
        "## **4**) Búsqueda exhaustiva / Secuencial\n",
        "\n",
        "Exhaustiva (Best Subset): evalúa todas las combinaciones. Ideal si P es pequeño y buscas “lo mejor” según un criterio (AIC/BIC/CV).\n",
        "Alternativa práctica: Forward/Backward/Stepwise con SequentialFeatureSelector (scikit-learn).\n",
        "\n",
        "Ejemplo (Forward Selection con CV):\n",
        "\n",
        "\n",
        "\n",
        "```\n",
        "from sklearn.feature_selection import SequentialFeatureSelector\n",
        "from sklearn.linear_model import Ridge\n",
        "from sklearn.model_selection import TimeSeriesSplit  # si es serie temporal\n",
        "\n",
        "est = Ridge(alpha=1.0)\n",
        "sfs = SequentialFeatureSelector(\n",
        "    est, n_features_to_select=12, direction='forward', scoring='neg_mean_squared_error', cv=5\n",
        ")\n",
        "sfs.fit(X, y)\n",
        "\n",
        "mask = sfs.get_support()\n",
        "selected_features = X.columns[mask]  # si X es DataFrame\n",
        "print(selected_features)\n",
        "```\n"
      ],
      "metadata": {
        "id": "i8yqJ8xCMmdD"
      }
    },
    {
      "cell_type": "markdown",
      "source": [
        "## Guía de decisión rápida\n",
        "\n",
        "Pocas features (P < 25) y quieres rigor → Exhaustiva (o Stepwise bien hecho).\n",
        "\n",
        "Muchas features y quieres subset interpretable → RFE (con un buen estimador) o Lasso.\n",
        "\n",
        "Colinealidad fuerte → Ridge (estabilidad) o Elastic Net (si además quieres selección).\n",
        "\n",
        "Modelo final es árbol/boosting → muchas veces no necesitas selección explícita; usa feature importance y/o max_depth, min_child_weight, etc.\n",
        "\n",
        "Series temporales → usa TimeSeriesSplit, evita fuga temporal y no mezcles futuro en el escalado/selección."
      ],
      "metadata": {
        "id": "VuAo5aNeNHKu"
      }
    },
    {
      "cell_type": "markdown",
      "source": [
        "## Selección vs Extracción\n",
        "\n",
        "**RECETARIO**"
      ],
      "metadata": {
        "id": "EqSC8ZNyNMT2"
      }
    },
    {
      "cell_type": "code",
      "source": [
        "# Ejemplo: PCA+Lasso en pipeline con TimeSeriesSplit\n",
        "from sklearn.decomposition import PCA\n",
        "from sklearn.linear_model import LassoCV\n",
        "from sklearn.preprocessing import StandardScaler\n",
        "from sklearn.pipeline import Pipeline # Import Pipeline\n",
        "from sklearn.model_selection import TimeSeriesSplit # Import TimeSeriesSplit\n",
        "import numpy as np # Import numpy for creating dummy data\n",
        "\n",
        "# Define tscv\n",
        "tscv = TimeSeriesSplit(n_splits=5)\n",
        "\n",
        "# Create dummy data for X and y\n",
        "X = np.random.rand(100, 10) # 100 samples, 10 features\n",
        "y = np.random.rand(100) # 100 samples\n",
        "\n",
        "pipe_pca_lasso = Pipeline([\n",
        "    ('scaler', StandardScaler()),\n",
        "    ('pca', PCA(n_components=0.95)),\n",
        "    ('lasso', LassoCV(cv=tscv, n_jobs=-1, max_iter=10000))\n",
        "])\n",
        "pipe_pca_lasso.fit(X, y)\n",
        "print(\"n comps PCA:\", pipe_pca_lasso.named_steps['pca'].n_components_)\n",
        "print(\"alpha* Lasso:\", pipe_pca_lasso.named_steps['lasso'].alpha_)"
      ],
      "metadata": {
        "colab": {
          "base_uri": "https://localhost:8080/"
        },
        "id": "In-RJiFrQxod",
        "outputId": "00918579-3342-4ef7-b17c-d783a5ca8c88"
      },
      "execution_count": 10,
      "outputs": [
        {
          "output_type": "stream",
          "name": "stdout",
          "text": [
            "n comps PCA: 10\n",
            "alpha* Lasso: 0.0512146679472811\n"
          ]
        }
      ]
    },
    {
      "cell_type": "code",
      "source": [
        "import numpy as np\n",
        "import matplotlib.pyplot as plt\n",
        "import scipy.stats as st\n",
        "import statsmodels.api as sm\n",
        "from sklearn.pipeline import Pipeline\n",
        "from sklearn.preprocessing import StandardScaler\n",
        "from sklearn.decomposition import PCA\n",
        "from sklearn.linear_model import LassoCV\n",
        "from sklearn.model_selection import TimeSeriesSplit\n",
        "\n",
        "# Reusa tu pipe y tscv ya definidos\n",
        "# pipe_pca_lasso = Pipeline([...])\n",
        "# tscv = TimeSeriesSplit(n_splits=5)\n",
        "\n",
        "# Toma la última partición temporal como “validación final”\n",
        "splits = list(tscv.split(X))\n",
        "train_idx, val_idx = splits[-1]\n",
        "\n",
        "pipe_pca_lasso.fit(X[train_idx], y[train_idx])\n",
        "y_val_pred = pipe_pca_lasso.predict(X[val_idx])\n",
        "\n",
        "def diag_plot(y_true, y_pred, title=\"Diagnóstico\"):\n",
        "    resid = y_true - y_pred\n",
        "    fig, ax = plt.subplots(1, 3, figsize=(15, 4))\n",
        "    ax[0].scatter(y_true, y_pred, s=10)\n",
        "    ax[0].plot([y_true.min(), y_true.max()], [y_true.min(), y_true.max()], 'k--')\n",
        "    ax[0].set_title(\"Real vs Pred\")\n",
        "    ax[1].hist(resid, bins=30, density=True)\n",
        "    ax[1].set_title(\"Hist residuales\")\n",
        "    sm.qqplot(resid, line='s', ax=ax[2])\n",
        "    ax[2].set_title(\"Q-Q residuales\")\n",
        "    plt.suptitle(title)\n",
        "    plt.tight_layout()\n",
        "    plt.show()\n",
        "\n",
        "diag_plot(y[val_idx], y_val_pred, title=\"Diagnóstico (TimeSeriesSplit OOS)\")\n",
        "\n"
      ],
      "metadata": {
        "colab": {
          "base_uri": "https://localhost:8080/",
          "height": 398
        },
        "id": "xQzulJBvRRJ0",
        "outputId": "fd8a725a-a6b4-4299-b025-2f98807df347"
      },
      "execution_count": 12,
      "outputs": [
        {
          "output_type": "display_data",
          "data": {
            "text/plain": [
              "<Figure size 1500x400 with 3 Axes>"
            ],
            "image/png": "[encoded data removed]"
          },
          "metadata": {}
        }
      ]
    },
    {
      "cell_type": "markdown",
      "source": [
        "## 1. Real vs Pred (izquierda)\n",
        "\n",
        "**Qué muestra:** los valores reales (y_true) en el eje X contra las predicciones (y_pred) en el eje Y.\n",
        "\n",
        "La línea negra es la bisectriz (y = x), donde caerían los puntos si el modelo predijera perfecto.\n",
        "\n",
        "**Interpretación del gráfico:**\n",
        "\n",
        "Tus predicciones están casi todas alrededor de un valor constante → parece que el modelo no está capturando la variabilidad real.\n",
        "\n",
        "**En proyecto:** aquí señalas si el modelo “se ajusta bien” o si tiende a subestimar/sobreestimar.\n",
        "\n",
        "## 2. Histograma de residuales (centro)\n",
        "\n",
        "**Qué muestra:** distribución de los errores (resid = y_true - y_pred).\n",
        "\n",
        "**Lo ideal:** que sea simétrica, centrada en 0, sin sesgos fuertes.\n",
        "\n",
        "**Interpretación del gráfico:**\n",
        "\n",
        "Los residuales no parecen centrados exactamente en 0 (se concentran entre -0.4 y -0.2).\n",
        "\n",
        "Eso indica un sesgo sistemático: el modelo tiende a equivocarse hacia un lado.\n",
        "\n",
        "## 3. Q-Q plot de residuales (derecha)\n",
        "\n",
        "**Qué muestra:** compara la distribución de los residuales contra una normal teórica.\n",
        "\n",
        "**Lo ideal:** los puntos deberían caer cerca de la línea roja → significa que los errores son aproximadamente normales.\n",
        "\n",
        "**Interpretación del gráfico:**\n",
        "\n",
        "**Hay curvatura clara: **los residuales no siguen bien una normal.\n",
        "\n",
        "Esto sugiere que el supuesto de normalidad no se cumple (algo esperable si el modelo no está ajustando bien)."
      ],
      "metadata": {
        "id": "CdRZTiy4Ts9R"
      }
    },
    {
      "cell_type": "markdown",
      "source": [
        "# 📌 ¿Qué es PCA + Lasso en pipeline?\n",
        "\n",
        "### 1. PCA (Principal Component Analysis)\n",
        "- **Qué hace**: reduce la dimensionalidad, condensando la información de muchas variables en unas pocas **componentes principales** que capturan la mayor parte de la varianza.  \n",
        "- **Para qué sirve**:\n",
        "  - Quita colinealidad entre variables.\n",
        "  - Reduce ruido.\n",
        "  - Acelera el entrenamiento.\n",
        "\n",
        "### 2. Lasso (L1 Regularization)\n",
        "- **Qué hace**: es una regresión penalizada que fuerza algunos coeficientes a **cero** → actúa como **selección automática de características**.  \n",
        "- **Para qué sirve**:\n",
        "  - Evita sobreajuste (overfitting).\n",
        "  - Identifica qué variables son realmente importantes.\n",
        "  - Hace que el modelo sea más interpretable.\n",
        "\n",
        "### 3. El pipeline completo\n",
        "```python\n",
        "pipe_pca_lasso = Pipeline([\n",
        "    ('scaler', StandardScaler()),       # estandariza (necesario para PCA y Lasso)\n",
        "    ('pca', PCA(n_components=0.95)),    # conserva 95% de la varianza\n",
        "    ('lasso', LassoCV(cv=tscv))         # selecciona alpha óptimo y elimina ruido\n",
        "])\n"
      ],
      "metadata": {
        "id": "1J1Cvq3rWEbf"
      }
    },
    {
      "cell_type": "markdown",
      "source": [
        "## Flujo:\n",
        "Datos crudos → escalado → reducción de dimensionalidad (PCA) → selección y regularización (Lasso).\n",
        "\n",
        "**Validación:** usar TimeSeriesSplit, que es lo correcto en series temporales (no mezclas futuro en entrenamiento).\n",
        "\n",
        "✅ **¿Por qué es una “receta ganadora”?**\n",
        "\n",
        "Porque combina extracción (PCA) y selección (Lasso).\n",
        "\n",
        "Quita redundancia y ruido antes de entrenar.\n",
        "\n",
        "Se adapta bien a datasets con muchas variables correlacionadas y series temporales.\n",
        "\n",
        "El alpha* que devuelve Lasso y el n_components que devuelve PCA son interpretables: puedes decir cuántas dimensiones y qué nivel de regularización resultaron óptimos."
      ],
      "metadata": {
        "id": "Gl0-MshzWOQf"
      }
    },
    {
      "cell_type": "markdown",
      "source": [
        "# 🍲 Recetas ganadoras para predicción / forecast en series temporales\n",
        "\n",
        "## 1) Feature Engineering + Regularización\n",
        "- **Receta:** crear **features rezagadas (lags)**, medias móviles, diferencias y variables de calendario (hora, día, mes, festivo, etc.).  \n",
        "- **Modelo:** Ridge / Lasso / ElasticNet.  \n",
        "- **Cuándo usarla:** cuando hay mucha correlación temporal pero también estacionalidad.  \n",
        "- **Extra:** usar `TimeSeriesSplit` o `WalkForwardValidation`.\n",
        "\n",
        "---\n",
        "\n",
        "## 2) RFE + Árboles (RandomForest o Gradient Boosting)\n",
        "- **Receta:** usar RFE (Recursive Feature Elimination) o feature importance de árboles para reducir features → entrenar con **XGBoost / LightGBM / CatBoost**.  \n",
        "- **Cuándo usarla:** datasets grandes con muchas variables exógenas (clima, economía, sensores).  \n",
        "- **Ganancia:** árboles capturan relaciones no lineales y manejan outliers sin problema.\n",
        "\n",
        "---\n",
        "\n",
        "## 3) PCA/Autoencoders + Red Neuronal\n",
        "- **Receta:** compresión de alta dimensión (PCA lineal o Autoencoder no lineal) → luego LSTM, GRU o Transformer.  \n",
        "- **Cuándo usarla:** cuando hay muchísimas variables correlacionadas (ej. datos energéticos, financieros, sensores IoT).  \n",
        "- **Ganancia:** menos ruido y entrenamiento más estable.\n",
        "\n",
        "---\n",
        "\n",
        "## 4) Ensembling (Combinación de modelos)\n",
        "- **Receta:** combinar modelos lineales + árboles + redes.  \n",
        "  Ejemplo: promedio ponderado de ARIMA, XGBoost y LSTM.  \n",
        "- **Cuándo usarla:** cuando un solo modelo no domina; útil en competiciones Kaggle.  \n",
        "- **Ganancia:** reduce varianza, mejora robustez.\n",
        "\n",
        "---\n",
        "\n",
        "## 5) Modelos clásicos + ML híbrido\n",
        "- **Receta:** ajustar un ARIMA / ETS para capturar tendencia y estacionalidad → usar ML (XGBoost, NN) sobre los **residuales**.  \n",
        "- **Cuándo usarla:** cuando la serie tiene patrón clásico + señales no lineales en los residuales.  \n",
        "- **Ganancia:** cada parte del modelo ataca un componente distinto.\n",
        "\n",
        "---\n",
        "\n",
        "## 6) Clustering + Forecast\n",
        "- **Receta:** agrupar series similares (ej. k-means sobre perfiles normalizados) → entrenar un modelo por clúster.  \n",
        "- **Cuándo usarla:** paneles de series (ej. múltiples clientes, estaciones meteorológicas).  \n",
        "- **Ganancia:** modelos más específicos y precisos.\n",
        "\n",
        "---\n",
        "\n",
        "## 7) Deep Learning puro\n",
        "- **Opciones:**  \n",
        "  - **LSTM / GRU:** para dependencias largas.  \n",
        "  - **Temporal Convolutional Networks (TCN):** capturan dependencias temporales con convoluciones.  \n",
        "  - **Transformers (Attention):** muy potentes para multivariadas largas.  \n",
        "- **Cuándo usarla:** gran cantidad de datos, relaciones no lineales y dependencias largas.  \n",
        "- **Ganancia:** precisión SOTA en forecasting complejo.\n",
        "\n",
        "---\n",
        "\n",
        "## 8) Stacking con metamodelo\n",
        "- **Receta:** entrenar varios modelos base (ARIMA, XGB, LSTM) → sus predicciones se usan como input de un **metamodelo** (ej. Ridge o NN pequeña).  \n",
        "- **Cuándo usarla:** datasets ricos y tiempo de cómputo disponible.  \n",
        "- **Ganancia:** saca lo mejor de cada modelo.\n"
      ],
      "metadata": {
        "id": "VWX44YaSWzkX"
      }
    },
    {
      "cell_type": "markdown",
      "source": [
        "# 🔎 Estrategias para predicción y forecast — Comparativa\n",
        "\n",
        "| Estrategia | Descripción | Ventajas | Desventajas | Cuándo usarla |\n",
        "|------------|-------------|----------|-------------|---------------|\n",
        "| **Feature Engineering + Regularización (Ridge/Lasso/ElasticNet)** | Crear lags, medias móviles, estacionalidad y ajustar un modelo lineal regularizado. | Simple, interpretable, evita sobreajuste, rápido. | Lineal, puede no capturar relaciones no lineales complejas. | Series pequeñas/medianas con patrones claros y variables exógenas. |\n",
        "| **RFE + Árboles (RandomForest, XGBoost, LightGBM, CatBoost)** | Selección de variables (RFE o feature importance) y luego boosting/bagging. | Maneja no linealidad, robusto a outliers, funciona con muchas features. | Más costoso en cómputo, tuning necesario. | Datos multivariados grandes (clima, energía, economía). |\n",
        "| **PCA/Autoencoder + LSTM/GRU** | Reducir dimensionalidad con PCA/Autoencoder y alimentar a una red recurrente. | Quita ruido y colinealidad, capta dependencias largas. | Menos interpretable, requiere muchos datos. | Forecast con muchas variables correlacionadas (IoT, sensores). |\n",
        "| **Ensembling (promedio/ponderado)** | Combinar varios modelos y promediar sus predicciones. | Reduce varianza, mejora robustez, simple de implementar. | No siempre mejora si los modelos son muy parecidos. | Competencias, entornos donde la estabilidad es clave. |\n",
        "| **Híbrido ARIMA + ML en residuales** | ARIMA para tendencia/estacionalidad, ML para residuales. | Aprovecha fortalezas de ambos mundos, interpretable. | Más pasos, tuning doble, posible sobreajuste. | Series con estructura clásica + señales no lineales. |\n",
        "| **Clustering + Forecast** | Agrupar series similares (ej. k-means) y entrenar por clúster. | Modelos más específicos y precisos, reduce varianza. | Requiere definir número de clústeres, puede fragmentar demasiado. | Paneles de series (ej. clientes, estaciones meteorológicas). |\n",
        "| **Deep Learning (LSTM, GRU, TCN, Transformers)** | Redes recurrentes, convolucionales o basadas en atención. | Capturan dependencias largas y no lineales, estado del arte. | Alto costo de entrenamiento, poca interpretabilidad. | Datasets grandes y complejos, forecasting multivariado. |\n",
        "| **Stacking con metamodelo** | Entrenar varios modelos base y combinar con un metamodelo (ej. Ridge). | Saca lo mejor de cada modelo, flexible. | Complejo de implementar, costoso. | Forecast con múltiples fuentes de datos y tiempo de cómputo suficiente. |\n"
      ],
      "metadata": {
        "id": "GqI0SiQHZYcE"
      }
    },
    {
      "cell_type": "code",
      "source": [
        "# Instalar graphviz (si no está)\n",
        "!apt-get -qq install graphviz\n",
        "!pip install graphviz\n",
        "\n",
        "from graphviz import Digraph\n",
        "\n",
        "dot = Digraph(comment=\"Receta de Estrategia Forecast\")\n",
        "dot.attr(rankdir='TB', size='8')\n",
        "\n",
        "# Nodos principales\n",
        "dot.node('A', '¿Cantidad de datos disponibles?')\n",
        "dot.node('B', 'Pocos (<1000 obs)\\n→ Modelos clásicos')\n",
        "dot.node('C', 'Muchos (>1000 obs)\\n→ Modelos avanzados')\n",
        "\n",
        "dot.edge('A', 'B', label='Pocos')\n",
        "dot.edge('A', 'C', label='Muchos')\n",
        "\n",
        "# Rama Modelos clásicos\n",
        "dot.node('B1', 'ARIMA/ETS\\n(patrón lineal y estacionalidad)')\n",
        "dot.node('B2', 'Lasso/Ridge\\n(si hay variables exógenas)')\n",
        "dot.edge('B', 'B1')\n",
        "dot.edge('B', 'B2')\n",
        "\n",
        "# Rama Modelos avanzados\n",
        "dot.node('D', '¿Muchas variables exógenas correlacionadas?')\n",
        "dot.edge('C', 'D')\n",
        "\n",
        "dot.node('E', 'PCA o Autoencoder + LSTM/GRU')\n",
        "dot.node('F', '¿Relaciones no lineales fuertes?')\n",
        "dot.edge('D', 'E', label='Sí')\n",
        "dot.edge('D', 'F', label='No')\n",
        "\n",
        "dot.node('G', 'XGBoost / LightGBM / CatBoost')\n",
        "dot.node('H', 'Ridge/Lasso con\\nlags y medias móviles')\n",
        "dot.edge('F', 'G', label='Sí')\n",
        "dot.edge('F', 'H', label='No')\n",
        "\n",
        "dot.node('I', '¿Quieres aún más precisión?')\n",
        "dot.edge('G', 'I')\n",
        "\n",
        "dot.node('J', 'Stacking / Ensembling')\n",
        "dot.edge('I', 'J', label='Sí')\n",
        "\n",
        "# Rama Deep Learning largo\n",
        "dot.node('K', '¿Serie muy larga y compleja?')\n",
        "dot.edge('E', 'K')\n",
        "\n",
        "dot.node('L', 'Transformers / TCN')\n",
        "dot.node('M', 'LSTM / GRU')\n",
        "dot.edge('K', 'L', label='Sí')\n",
        "dot.edge('K', 'M', label='No')\n",
        "\n",
        "# Nodo final común\n",
        "dot.node('Z', 'Diagnóstico de residuales\\n(Asegurar buen ajuste)')\n",
        "for n in ['B1','B2','H','M','L','J']:\n",
        "    dot.edge(n, 'Z')\n",
        "\n",
        "# Mostrar en colab\n",
        "dot.render('forecast_recipe.gv', view=True)\n",
        "dot\n"
      ],
      "metadata": {
        "colab": {
          "base_uri": "https://localhost:8080/",
          "height": 535
        },
        "id": "-iG0I5eyaKT_",
        "outputId": "473119a8-6782-4bf3-dccb-d8ea132398a0"
      },
      "execution_count": 14,
      "outputs": [
        {
          "output_type": "stream",
          "name": "stdout",
          "text": [
            "Requirement already satisfied: graphviz in /usr/local/lib/python3.12/dist-packages (0.21)\n"
          ]
        },
        {
          "output_type": "execute_result",
          "data": {
            "image/svg+xml": "<?xml version=\"1.0\" encoding=\"UTF-8\" standalone=\"no\"?>\n<!DOCTYPE svg PUBLIC \"-//W3C//DTD SVG 1.1//EN\"\n \"http://www.w3.org/Graphics/SVG/1.1/DTD/svg11.dtd\">\n<!-- Generated by graphviz version 2.43.0 (0)\n -->\n<!-- Title: %3 Pages: 1 -->\n<svg width=\"576pt\" height=\"372pt\"\n viewBox=\"0.00 0.00 576.00 372.32\" xmlns=\"http://www.w3.org/2000/svg\" xmlns:xlink=\"http://www.w3.org/1999/xlink\">\n<g id=\"graph0\" class=\"graph\" transform=\"scale(0.49 0.49) rotate(0) translate(4 751.7)\">\n<title>%3</title>\n<polygon fill=\"white\" stroke=\"transparent\" points=\"-4,4 -4,-751.7 1165.1,-751.7 1165.1,4 -4,4\"/>\n<!-- A -->\n<g id=\"node1\" class=\"node\">\n<title>A</title>\n<ellipse fill=\"none\" stroke=\"black\" cx=\"422.81\" cy=\"-729.7\" rx=\"124.28\" ry=\"18\"/>\n<text text-anchor=\"middle\" x=\"422.81\" y=\"-726\" font-family=\"Times,serif\" font-size=\"14.00\">¿Cantidad de datos disponibles?</text>\n</g>\n<!-- B -->\n<g id=\"node2\" class=\"node\">\n<title>B</title>\n<ellipse fill=\"none\" stroke=\"black\" cx=\"395.81\" cy=\"-222.35\" rx=\"91.43\" ry=\"26.74\"/>\n<text text-anchor=\"middle\" x=\"395.81\" y=\"-226.15\" font-family=\"Times,serif\" font-size=\"14.00\">Pocos (&lt;1000 obs)</text>\n<text text-anchor=\"middle\" x=\"395.81\" y=\"-211.15\" font-family=\"Times,serif\" font-size=\"14.00\">→ Modelos clásicos</text>\n</g>\n<!-- A&#45;&gt;B -->\n<g id=\"edge1\" class=\"edge\">\n<title>A&#45;&gt;B</title>\n<path fill=\"none\" stroke=\"black\" d=\"M418.1,-711.55C413.38,-692.84 406.81,-661.94 406.81,-634.83 406.81,-634.83 406.81,-634.83 406.81,-355.96 406.81,-323.13 403.42,-285.87 400.41,-259.23\"/>\n<polygon fill=\"black\" stroke=\"black\" points=\"403.87,-258.74 399.23,-249.22 396.92,-259.56 403.87,-258.74\"/>\n<text text-anchor=\"middle\" x=\"423.31\" y=\"-504.76\" font-family=\"Times,serif\" font-size=\"14.00\">Pocos</text>\n</g>\n<!-- C -->\n<g id=\"node3\" class=\"node\">\n<title>C</title>\n<ellipse fill=\"none\" stroke=\"black\" cx=\"571.81\" cy=\"-633.83\" rx=\"101.23\" ry=\"26.74\"/>\n<text text-anchor=\"middle\" x=\"571.81\" y=\"-637.63\" font-family=\"Times,serif\" font-size=\"14.00\">Muchos (&gt;1000 obs)</text>\n<text text-anchor=\"middle\" x=\"571.81\" y=\"-622.63\" font-family=\"Times,serif\" font-size=\"14.00\">→ Modelos avanzados</text>\n</g>\n<!-- A&#45;&gt;C -->\n<g id=\"edge2\" class=\"edge\">\n<title>A&#45;&gt;C</title>\n<path fill=\"none\" stroke=\"black\" d=\"M449.45,-711.92C470.42,-698.71 500.15,-679.98 525.06,-664.28\"/>\n<polygon fill=\"black\" stroke=\"black\" points=\"527.05,-667.17 533.65,-658.87 523.32,-661.24 527.05,-667.17\"/>\n<text text-anchor=\"middle\" x=\"523.31\" y=\"-682.5\" font-family=\"Times,serif\" font-size=\"14.00\">Muchos</text>\n</g>\n<!-- B1 -->\n<g id=\"node4\" class=\"node\">\n<title>B1</title>\n<ellipse fill=\"none\" stroke=\"black\" cx=\"130.81\" cy=\"-117.61\" rx=\"130.63\" ry=\"26.74\"/>\n<text text-anchor=\"middle\" x=\"130.81\" y=\"-121.41\" font-family=\"Times,serif\" font-size=\"14.00\">ARIMA/ETS</text>\n<text text-anchor=\"middle\" x=\"130.81\" y=\"-106.41\" font-family=\"Times,serif\" font-size=\"14.00\">(patrón lineal y estacionalidad)</text>\n</g>\n<!-- B&#45;&gt;B1 -->\n<g id=\"edge3\" class=\"edge\">\n<title>B&#45;&gt;B1</title>\n<path fill=\"none\" stroke=\"black\" d=\"M342.19,-200.56C301.19,-184.66 244.34,-162.62 199.93,-145.41\"/>\n<polygon fill=\"black\" stroke=\"black\" points=\"200.95,-142.05 190.36,-141.7 198.42,-148.58 200.95,-142.05\"/>\n</g>\n<!-- B2 -->\n<g id=\"node5\" class=\"node\">\n<title>B2</title>\n<ellipse fill=\"none\" stroke=\"black\" cx=\"395.81\" cy=\"-117.61\" rx=\"115.93\" ry=\"26.74\"/>\n<text text-anchor=\"middle\" x=\"395.81\" y=\"-121.41\" font-family=\"Times,serif\" font-size=\"14.00\">Lasso/Ridge</text>\n<text text-anchor=\"middle\" x=\"395.81\" y=\"-106.41\" font-family=\"Times,serif\" font-size=\"14.00\">(si hay variables exógenas)</text>\n</g>\n<!-- B&#45;&gt;B2 -->\n<g id=\"edge4\" class=\"edge\">\n<title>B&#45;&gt;B2</title>\n<path fill=\"none\" stroke=\"black\" d=\"M395.81,-195.42C395.81,-183.14 395.81,-168.25 395.81,-154.86\"/>\n<polygon fill=\"black\" stroke=\"black\" points=\"399.31,-154.53 395.81,-144.53 392.31,-154.53 399.31,-154.53\"/>\n</g>\n<!-- D -->\n<g id=\"node6\" class=\"node\">\n<title>D</title>\n<ellipse fill=\"none\" stroke=\"black\" cx=\"647.81\" cy=\"-551.96\" rx=\"173.57\" ry=\"18\"/>\n<text text-anchor=\"middle\" x=\"647.81\" y=\"-548.26\" font-family=\"Times,serif\" font-size=\"14.00\">¿Muchas variables exógenas correlacionadas?</text>\n</g>\n<!-- C&#45;&gt;D -->\n<g id=\"edge5\" class=\"edge\">\n<title>C&#45;&gt;D</title>\n<path fill=\"none\" stroke=\"black\" d=\"M595.86,-607.56C605.06,-597.89 615.52,-586.9 624.63,-577.32\"/>\n<polygon fill=\"black\" stroke=\"black\" points=\"627.25,-579.65 631.6,-570 622.18,-574.83 627.25,-579.65\"/>\n</g>\n<!-- Z -->\n<g id=\"node16\" class=\"node\">\n<title>Z</title>\n<ellipse fill=\"none\" stroke=\"black\" cx=\"682.81\" cy=\"-26.87\" rx=\"110.12\" ry=\"26.74\"/>\n<text text-anchor=\"middle\" x=\"682.81\" y=\"-30.67\" font-family=\"Times,serif\" font-size=\"14.00\">Diagnóstico de residuales</text>\n<text text-anchor=\"middle\" x=\"682.81\" y=\"-15.67\" font-family=\"Times,serif\" font-size=\"14.00\">(Asegurar buen ajuste)</text>\n</g>\n<!-- B1&#45;&gt;Z -->\n<g id=\"edge15\" class=\"edge\">\n<title>B1&#45;&gt;Z</title>\n<path fill=\"none\" stroke=\"black\" d=\"M224.88,-98.81C240.22,-96.03 255.95,-93.25 270.81,-90.74 375.71,-73.05 496.01,-54.94 579.43,-42.73\"/>\n<polygon fill=\"black\" stroke=\"black\" points=\"580.02,-46.18 589.41,-41.27 579.01,-39.25 580.02,-46.18\"/>\n</g>\n<!-- B2&#45;&gt;Z -->\n<g id=\"edge16\" class=\"edge\">\n<title>B2&#45;&gt;Z</title>\n<path fill=\"none\" stroke=\"black\" d=\"M463.47,-95.69C506.39,-82.42 562.01,-65.22 606.51,-51.46\"/>\n<polygon fill=\"black\" stroke=\"black\" points=\"607.59,-54.79 616.11,-48.49 605.53,-48.1 607.59,-54.79\"/>\n</g>\n<!-- E -->\n<g id=\"node7\" class=\"node\">\n<title>E</title>\n<ellipse fill=\"none\" stroke=\"black\" cx=\"647.81\" cy=\"-410.96\" rx=\"136.48\" ry=\"18\"/>\n<text text-anchor=\"middle\" x=\"647.81\" y=\"-407.26\" font-family=\"Times,serif\" font-size=\"14.00\">PCA o Autoencoder + LSTM/GRU</text>\n</g>\n<!-- D&#45;&gt;E -->\n<g id=\"edge6\" class=\"edge\">\n<title>D&#45;&gt;E</title>\n<path fill=\"none\" stroke=\"black\" d=\"M647.81,-533.92C647.81,-510.36 647.81,-467.6 647.81,-439.49\"/>\n<polygon fill=\"black\" stroke=\"black\" points=\"651.31,-439.14 647.81,-429.14 644.31,-439.14 651.31,-439.14\"/>\n<text text-anchor=\"middle\" x=\"653.81\" y=\"-504.76\" font-family=\"Times,serif\" font-size=\"14.00\">Sí</text>\n</g>\n<!-- F -->\n<g id=\"node8\" class=\"node\">\n<title>F</title>\n<ellipse fill=\"none\" stroke=\"black\" cx=\"903.81\" cy=\"-464.96\" rx=\"124.28\" ry=\"18\"/>\n<text text-anchor=\"middle\" x=\"903.81\" y=\"-461.26\" font-family=\"Times,serif\" font-size=\"14.00\">¿Relaciones no lineales fuertes?</text>\n</g>\n<!-- D&#45;&gt;F -->\n<g id=\"edge7\" class=\"edge\">\n<title>D&#45;&gt;F</title>\n<path fill=\"none\" stroke=\"black\" d=\"M696.87,-534.67C739.75,-520.44 802.01,-499.76 847.04,-484.81\"/>\n<polygon fill=\"black\" stroke=\"black\" points=\"848.27,-488.09 856.65,-481.62 846.06,-481.45 848.27,-488.09\"/>\n<text text-anchor=\"middle\" x=\"799.31\" y=\"-504.76\" font-family=\"Times,serif\" font-size=\"14.00\">No</text>\n</g>\n<!-- K -->\n<g id=\"node13\" class=\"node\">\n<title>K</title>\n<ellipse fill=\"none\" stroke=\"black\" cx=\"647.81\" cy=\"-222.35\" rx=\"116.98\" ry=\"18\"/>\n<text text-anchor=\"middle\" x=\"647.81\" y=\"-218.65\" font-family=\"Times,serif\" font-size=\"14.00\">¿Serie muy larga y compleja?</text>\n</g>\n<!-- E&#45;&gt;K -->\n<g id=\"edge12\" class=\"edge\">\n<title>E&#45;&gt;K</title>\n<path fill=\"none\" stroke=\"black\" d=\"M647.81,-392.74C647.81,-360.24 647.81,-289.65 647.81,-250.64\"/>\n<polygon fill=\"black\" stroke=\"black\" points=\"651.31,-250.53 647.81,-240.53 644.31,-250.53 651.31,-250.53\"/>\n</g>\n<!-- G -->\n<g id=\"node9\" class=\"node\">\n<title>G</title>\n<ellipse fill=\"none\" stroke=\"black\" cx=\"903.81\" cy=\"-356.96\" rx=\"130.78\" ry=\"18\"/>\n<text text-anchor=\"middle\" x=\"903.81\" y=\"-353.26\" font-family=\"Times,serif\" font-size=\"14.00\">XGBoost / LightGBM / CatBoost</text>\n</g>\n<!-- F&#45;&gt;G -->\n<g id=\"edge8\" class=\"edge\">\n<title>F&#45;&gt;G</title>\n<path fill=\"none\" stroke=\"black\" d=\"M903.81,-446.93C903.81,-430.34 903.81,-404.84 903.81,-385.39\"/>\n<polygon fill=\"black\" stroke=\"black\" points=\"907.31,-385.3 903.81,-375.3 900.31,-385.3 907.31,-385.3\"/>\n<text text-anchor=\"middle\" x=\"909.81\" y=\"-407.26\" font-family=\"Times,serif\" font-size=\"14.00\">Sí</text>\n</g>\n<!-- H -->\n<g id=\"node10\" class=\"node\">\n<title>H</title>\n<ellipse fill=\"none\" stroke=\"black\" cx=\"1062.81\" cy=\"-294.09\" rx=\"98.08\" ry=\"26.74\"/>\n<text text-anchor=\"middle\" x=\"1062.81\" y=\"-297.89\" font-family=\"Times,serif\" font-size=\"14.00\">Ridge/Lasso con</text>\n<text text-anchor=\"middle\" x=\"1062.81\" y=\"-282.89\" font-family=\"Times,serif\" font-size=\"14.00\">lags y medias móviles</text>\n</g>\n<!-- F&#45;&gt;H -->\n<g id=\"edge9\" class=\"edge\">\n<title>F&#45;&gt;H</title>\n<path fill=\"none\" stroke=\"black\" d=\"M945.31,-447.9C977.02,-433.5 1019.33,-409.32 1043.81,-374.96 1052.8,-362.35 1057.58,-346.06 1060.11,-331.48\"/>\n<polygon fill=\"black\" stroke=\"black\" points=\"1063.62,-331.65 1061.58,-321.25 1056.69,-330.65 1063.62,-331.65\"/>\n<text text-anchor=\"middle\" x=\"1035.31\" y=\"-407.26\" font-family=\"Times,serif\" font-size=\"14.00\">No</text>\n</g>\n<!-- I -->\n<g id=\"node11\" class=\"node\">\n<title>I</title>\n<ellipse fill=\"none\" stroke=\"black\" cx=\"913.81\" cy=\"-222.35\" rx=\"112.38\" ry=\"18\"/>\n<text text-anchor=\"middle\" x=\"913.81\" y=\"-218.65\" font-family=\"Times,serif\" font-size=\"14.00\">¿Quieres aún más precisión?</text>\n</g>\n<!-- G&#45;&gt;I -->\n<g id=\"edge10\" class=\"edge\">\n<title>G&#45;&gt;I</title>\n<path fill=\"none\" stroke=\"black\" d=\"M905.1,-338.9C906.79,-316.52 909.77,-276.99 911.77,-250.49\"/>\n<polygon fill=\"black\" stroke=\"black\" points=\"915.27,-250.58 912.53,-240.35 908.29,-250.06 915.27,-250.58\"/>\n</g>\n<!-- H&#45;&gt;Z -->\n<g id=\"edge17\" class=\"edge\">\n<title>H&#45;&gt;Z</title>\n<path fill=\"none\" stroke=\"black\" d=\"M1069.25,-267.13C1078.15,-224.38 1088.48,-139.07 1043.81,-90.74 1011.48,-55.75 893.39,-40.18 800.97,-33.29\"/>\n<polygon fill=\"black\" stroke=\"black\" points=\"801.2,-29.79 790.97,-32.57 800.69,-36.78 801.2,-29.79\"/>\n</g>\n<!-- J -->\n<g id=\"node12\" class=\"node\">\n<title>J</title>\n<ellipse fill=\"none\" stroke=\"black\" cx=\"943.81\" cy=\"-117.61\" rx=\"90.98\" ry=\"18\"/>\n<text text-anchor=\"middle\" x=\"943.81\" y=\"-113.91\" font-family=\"Times,serif\" font-size=\"14.00\">Stacking / Ensembling</text>\n</g>\n<!-- I&#45;&gt;J -->\n<g id=\"edge11\" class=\"edge\">\n<title>I&#45;&gt;J</title>\n<path fill=\"none\" stroke=\"black\" d=\"M918.9,-203.92C923.59,-187.88 930.6,-163.86 936,-145.39\"/>\n<polygon fill=\"black\" stroke=\"black\" points=\"939.36,-146.36 938.8,-135.78 932.64,-144.4 939.36,-146.36\"/>\n<text text-anchor=\"middle\" x=\"935.81\" y=\"-166.28\" font-family=\"Times,serif\" font-size=\"14.00\">Sí</text>\n</g>\n<!-- J&#45;&gt;Z -->\n<g id=\"edge20\" class=\"edge\">\n<title>J&#45;&gt;Z</title>\n<path fill=\"none\" stroke=\"black\" d=\"M900.13,-101.76C860.57,-88.31 801.53,-68.23 754.97,-52.4\"/>\n<polygon fill=\"black\" stroke=\"black\" points=\"755.83,-49 745.23,-49.09 753.57,-55.62 755.83,-49\"/>\n</g>\n<!-- L -->\n<g id=\"node14\" class=\"node\">\n<title>L</title>\n<ellipse fill=\"none\" stroke=\"black\" cx=\"612.81\" cy=\"-117.61\" rx=\"83.39\" ry=\"18\"/>\n<text text-anchor=\"middle\" x=\"612.81\" y=\"-113.91\" font-family=\"Times,serif\" font-size=\"14.00\">Transformers / TCN</text>\n</g>\n<!-- K&#45;&gt;L -->\n<g id=\"edge13\" class=\"edge\">\n<title>K&#45;&gt;L</title>\n<path fill=\"none\" stroke=\"black\" d=\"M641.88,-203.92C636.41,-187.88 628.23,-163.86 621.94,-145.39\"/>\n<polygon fill=\"black\" stroke=\"black\" points=\"625.2,-144.12 618.66,-135.78 618.58,-146.38 625.2,-144.12\"/>\n<text text-anchor=\"middle\" x=\"637.81\" y=\"-166.28\" font-family=\"Times,serif\" font-size=\"14.00\">Sí</text>\n</g>\n<!-- M -->\n<g id=\"node15\" class=\"node\">\n<title>M</title>\n<ellipse fill=\"none\" stroke=\"black\" cx=\"774.81\" cy=\"-117.61\" rx=\"60.39\" ry=\"18\"/>\n<text text-anchor=\"middle\" x=\"774.81\" y=\"-113.91\" font-family=\"Times,serif\" font-size=\"14.00\">LSTM / GRU</text>\n</g>\n<!-- K&#45;&gt;M -->\n<g id=\"edge14\" class=\"edge\">\n<title>K&#45;&gt;M</title>\n<path fill=\"none\" stroke=\"black\" d=\"M668.5,-204.61C689.88,-187.32 723.37,-160.23 747.05,-141.07\"/>\n<polygon fill=\"black\" stroke=\"black\" points=\"749.4,-143.67 754.97,-134.66 745,-138.23 749.4,-143.67\"/>\n<text text-anchor=\"middle\" x=\"727.31\" y=\"-166.28\" font-family=\"Times,serif\" font-size=\"14.00\">No</text>\n</g>\n<!-- L&#45;&gt;Z -->\n<g id=\"edge19\" class=\"edge\">\n<title>L&#45;&gt;Z</title>\n<path fill=\"none\" stroke=\"black\" d=\"M626.31,-99.5C634.87,-88.66 646.22,-74.26 656.5,-61.23\"/>\n<polygon fill=\"black\" stroke=\"black\" points=\"659.29,-63.35 662.73,-53.33 653.79,-59.01 659.29,-63.35\"/>\n</g>\n<!-- M&#45;&gt;Z -->\n<g id=\"edge18\" class=\"edge\">\n<title>M&#45;&gt;Z</title>\n<path fill=\"none\" stroke=\"black\" d=\"M757.51,-99.92C746,-88.82 730.51,-73.87 716.61,-60.47\"/>\n<polygon fill=\"black\" stroke=\"black\" points=\"718.72,-57.64 709.1,-53.22 713.86,-62.68 718.72,-57.64\"/>\n</g>\n</g>\n</svg>\n",
            "text/plain": [
              "<graphviz.graphs.Digraph at 0x7d76422f9df0>"
            ]
          },
          "metadata": {},
          "execution_count": 14
        }
      ]
    }
  ]
}